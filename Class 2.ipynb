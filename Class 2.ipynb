{
 "cells": [
  {
   "cell_type": "markdown",
   "id": "ddee5dac",
   "metadata": {},
   "source": [
    "### Section 1 - Number (Integers and Float)"
   ]
  },
  {
   "cell_type": "code",
   "execution_count": 1,
   "id": "35628b19",
   "metadata": {},
   "outputs": [],
   "source": [
    "# Create a code that calculates sales tax\n",
    "# Total = #The amount you spent\n",
    "# Tax_percent = #The tax percentage e.g 10%, 20%, 30%, etc\n",
    "# Tax_amt = #The tax percentage multiplied by the total amount\n",
    "# Grand_total = #The total amount less the Tax Amount\n",
    "# Print(Narration)\n",
    "#--------------- Write your code below----------------------------#\n"
   ]
  },
  {
   "cell_type": "code",
   "execution_count": 2,
   "id": "a5883c05",
   "metadata": {},
   "outputs": [
    {
     "data": {
      "text/plain": [
       "4000.0"
      ]
     },
     "execution_count": 2,
     "metadata": {},
     "output_type": "execute_result"
    }
   ],
   "source": [
    "Total = 5000\n",
    "Tax_percent = 0.2\n",
    "Tax_amount = Tax_percent*Total\n",
    "Ground_total = Total-Tax_amount\n",
    "Ground_total"
   ]
  },
  {
   "cell_type": "code",
   "execution_count": 3,
   "id": "7decf2bb",
   "metadata": {},
   "outputs": [],
   "source": [
    "# Print(The test score program)\n",
    "# Print(--------------------------)\n",
    "# Print(Enter 3 test score)\n",
    "# Print(-----------------------------------)\n",
    "# Total_score = 0\n",
    "# Total_score += Get input from user\n",
    "# Total_score += Get input from user\n",
    "# Total_score += Get input from user\n",
    "# Average_score = Get the Average score\n",
    "# Print(-----------------------------------)\n",
    "# Using print formatting - print Total Score and Average Score\n",
    "# Print()\n",
    "# Print(Bye)\n",
    "\n",
    "#--------------- Write your code below----------------------------#"
   ]
  },
  {
   "cell_type": "code",
   "execution_count": 4,
   "id": "cb5ec1d4",
   "metadata": {},
   "outputs": [
    {
     "name": "stdout",
     "output_type": "stream",
     "text": [
      "Enter first_score50\n",
      "Enter second_score40\n",
      "Enter third_score60\n",
      "Total score is 150 and Average score is 50.0\n"
     ]
    }
   ],
   "source": [
    "Total_score = 0\n",
    "Total_score += int(input(\"Enter first_score\"))\n",
    "Total_score += int(input(\"Enter second_score\"))\n",
    "Total_score += int(input(\"Enter third_score\"))\n",
    "Average_score = Total_score/3\n",
    "print(f\"Total score is {Total_score} and Average score is {Average_score}\")"
   ]
  },
  {
   "cell_type": "code",
   "execution_count": 5,
   "id": "2121fd9a",
   "metadata": {},
   "outputs": [
    {
     "name": "stdout",
     "output_type": "stream",
     "text": [
      "Enter first_score50\n",
      "Enter second_score40\n",
      "Enter third_score60\n",
      "Total score is 150 and Average score is 50.0\n"
     ]
    }
   ],
   "source": [
    "Total_score = 0\n",
    "Total_score = Total_score + int(input(\"Enter first_score\"))\n",
    "Total_score = Total_score + int(input(\"Enter second_score\"))\n",
    "Total_score = Total_score + int(input(\"Enter third_score\"))\n",
    "Average_score = Total_score/3\n",
    "print(f\"Total score is {Total_score} and Average score is {Average_score}\")"
   ]
  },
  {
   "cell_type": "code",
   "execution_count": 6,
   "id": "5804aeea",
   "metadata": {},
   "outputs": [],
   "source": [
    "# calculate the mean of the numeric values in the list below\n",
    "\n",
    "# list1 = [150, rat, 80, fish, 300, 400, 500]\n",
    "# mean = sum of total / count of total\n",
    "\n",
    "# ---------------------write your code here -----------------------#"
   ]
  },
  {
   "cell_type": "code",
   "execution_count": 7,
   "id": "f10be61b",
   "metadata": {},
   "outputs": [
    {
     "name": "stdout",
     "output_type": "stream",
     "text": [
      "150\n",
      "80\n",
      "300\n",
      "400\n",
      "500\n"
     ]
    }
   ],
   "source": [
    "List = [150, \"rat\", 80, \"fish\", 300, 400, 500]\n",
    "for items in List:\n",
    "    if type(items) == int:\n",
    "        print(items)\n",
    "\n"
   ]
  },
  {
   "cell_type": "code",
   "execution_count": 8,
   "id": "a6a9c39e",
   "metadata": {},
   "outputs": [
    {
     "data": {
      "text/plain": [
       "7"
      ]
     },
     "execution_count": 8,
     "metadata": {},
     "output_type": "execute_result"
    }
   ],
   "source": [
    "len(List)\n",
    "        "
   ]
  },
  {
   "cell_type": "code",
   "execution_count": 9,
   "id": "fea38cf8",
   "metadata": {},
   "outputs": [],
   "source": [
    "List = [150, \"rat\", 80, \"fish\", 300, 400, 500]"
   ]
  },
  {
   "cell_type": "code",
   "execution_count": 10,
   "id": "f3a66cc5",
   "metadata": {},
   "outputs": [
    {
     "data": {
      "text/plain": [
       "1430"
      ]
     },
     "execution_count": 10,
     "metadata": {},
     "output_type": "execute_result"
    }
   ],
   "source": [
    "List1 = List[0] + List[2] + List[4] + List[5] + List[6] \n",
    "List1"
   ]
  },
  {
   "cell_type": "code",
   "execution_count": 11,
   "id": "c9d83f12",
   "metadata": {},
   "outputs": [
    {
     "data": {
      "text/plain": [
       "286.0"
      ]
     },
     "execution_count": 11,
     "metadata": {},
     "output_type": "execute_result"
    }
   ],
   "source": [
    "Mean = List1/5\n",
    "Mean"
   ]
  },
  {
   "cell_type": "markdown",
   "id": "7da3a466",
   "metadata": {},
   "source": [
    "### Section 2 - Strings"
   ]
  },
  {
   "cell_type": "code",
   "execution_count": 12,
   "id": "ab64a499",
   "metadata": {},
   "outputs": [],
   "source": [
    "# Create a string made of the middle three characters\n",
    "# str1 = \"efEMEna\"\n",
    "# output = EME\n",
    "# return the output with a print function with the text 'Are you certain the expected output is ___ ?'\n",
    "# ---------------------write your code here -----------------------#"
   ]
  },
  {
   "cell_type": "code",
   "execution_count": 13,
   "id": "fcef0f1b",
   "metadata": {},
   "outputs": [
    {
     "name": "stdout",
     "output_type": "stream",
     "text": [
      "Are you certain the expected output is KIL\n"
     ]
    }
   ],
   "source": [
    "Str = \"waKILu\"\n",
    "output = Str[2:5]\n",
    "output\n",
    "print(f\"Are you certain the expected output is {output}\")"
   ]
  },
  {
   "cell_type": "code",
   "execution_count": 14,
   "id": "9b8d99b2",
   "metadata": {},
   "outputs": [],
   "source": [
    "# Assign The quick brown fox jumps over the lazy dog to a Variable\n",
    "# Slice the string to obtain quick brown fox\n",
    "# Slice the string to obtain the lazy dog\n",
    "# Use negative Indexing to obtain lazy dog\n",
    "# Obtain the Length of the string\n",
    "\n",
    "#--------------- Write your code below----------------------------#\n"
   ]
  },
  {
   "cell_type": "code",
   "execution_count": 15,
   "id": "07cb0ece",
   "metadata": {},
   "outputs": [],
   "source": [
    "Lazy_dog = \"The quick brown fox jumps over the lazy dog\""
   ]
  },
  {
   "cell_type": "code",
   "execution_count": 16,
   "id": "8ab06f40",
   "metadata": {},
   "outputs": [
    {
     "data": {
      "text/plain": [
       "'quick brown fox'"
      ]
     },
     "execution_count": 16,
     "metadata": {},
     "output_type": "execute_result"
    }
   ],
   "source": [
    "Lazy_dog[4:19]"
   ]
  },
  {
   "cell_type": "code",
   "execution_count": 17,
   "id": "2b7113e2",
   "metadata": {},
   "outputs": [
    {
     "data": {
      "text/plain": [
       "'lazy dog'"
      ]
     },
     "execution_count": 17,
     "metadata": {},
     "output_type": "execute_result"
    }
   ],
   "source": [
    "Lazy_dog[35::]"
   ]
  },
  {
   "cell_type": "code",
   "execution_count": 18,
   "id": "7cb70e58",
   "metadata": {},
   "outputs": [
    {
     "data": {
      "text/plain": [
       "'lazy dog'"
      ]
     },
     "execution_count": 18,
     "metadata": {},
     "output_type": "execute_result"
    }
   ],
   "source": [
    "Lazy_dog[-8::]"
   ]
  },
  {
   "cell_type": "code",
   "execution_count": 19,
   "id": "d6953838",
   "metadata": {},
   "outputs": [
    {
     "data": {
      "text/plain": [
       "43"
      ]
     },
     "execution_count": 19,
     "metadata": {},
     "output_type": "execute_result"
    }
   ],
   "source": [
    "len(Lazy_dog)"
   ]
  },
  {
   "cell_type": "code",
   "execution_count": 20,
   "id": "748b3dd5",
   "metadata": {},
   "outputs": [],
   "source": [
    "# Get input from user and Concatenate the code below\n",
    "# Name = What is your name?\n",
    "# Age = How old are you?\n",
    "# State = What is your state of origin?\n",
    "# Profession = What is your profession?\n",
    "# Bio = print My name is _ and i'm _ years old. I am from _ state and i am _ by profession \n",
    "\n",
    "#--------------- Write your code below----------------------------#"
   ]
  },
  {
   "cell_type": "code",
   "execution_count": 21,
   "id": "fda6ad33",
   "metadata": {},
   "outputs": [
    {
     "name": "stdout",
     "output_type": "stream",
     "text": [
      "What is your name? Wakilu\n",
      "How old are you? 26\n",
      "What is your state of Origin? Ogun\n",
      "What is your profession? Engineer\n",
      "My name is Wakilu and i'm 26 years old. I am from Ogun state and i am Engineer by profession\n"
     ]
    }
   ],
   "source": [
    "Name = input(\"What is your name? \")\n",
    "Age = int(input(\"How old are you? \"))\n",
    "State = input(\"What is your state of Origin? \")\n",
    "Profession = input(\"What is your profession? \")\n",
    "Bio = print(f\"My name is {Name} and i'm {Age} years old. I am from {State} state and i am {Profession} by profession\") \n"
   ]
  },
  {
   "cell_type": "code",
   "execution_count": 22,
   "id": "22ad0659",
   "metadata": {},
   "outputs": [],
   "source": [
    "# Assign the text 'One of the first notebooks: Galileo's drawings of Jupiter and its Medicean Stars from Sidereus Nuncius'. to a variable\n",
    "# print the length of \"Jupiter\" from within the string\n",
    "# how many WORDS are contained in the text?\n",
    "\n",
    "\n",
    "# ---------------------write your code here -----------------------#"
   ]
  },
  {
   "cell_type": "code",
   "execution_count": 23,
   "id": "eb9dcc96",
   "metadata": {},
   "outputs": [
    {
     "data": {
      "text/plain": [
       "\"One of the first notebooks: Galileo's drawings of Jupiter and its Medicean Stars from Sidereus Nuncius\""
      ]
     },
     "execution_count": 23,
     "metadata": {},
     "output_type": "execute_result"
    }
   ],
   "source": [
    "Text = \"One of the first notebooks: Galileo's drawings of Jupiter and its Medicean Stars from Sidereus Nuncius\"\n",
    "Text"
   ]
  },
  {
   "cell_type": "code",
   "execution_count": 24,
   "id": "774b706a",
   "metadata": {},
   "outputs": [
    {
     "data": {
      "text/plain": [
       "'Jupiter'"
      ]
     },
     "execution_count": 24,
     "metadata": {},
     "output_type": "execute_result"
    }
   ],
   "source": [
    "Sub_text = Text[50:57]\n",
    "Sub_text"
   ]
  },
  {
   "cell_type": "code",
   "execution_count": 25,
   "id": "4b87aaae",
   "metadata": {},
   "outputs": [
    {
     "data": {
      "text/plain": [
       "7"
      ]
     },
     "execution_count": 25,
     "metadata": {},
     "output_type": "execute_result"
    }
   ],
   "source": [
    "len(Sub_text)"
   ]
  },
  {
   "cell_type": "code",
   "execution_count": 26,
   "id": "03377f27",
   "metadata": {},
   "outputs": [
    {
     "data": {
      "text/plain": [
       "102"
      ]
     },
     "execution_count": 26,
     "metadata": {},
     "output_type": "execute_result"
    }
   ],
   "source": [
    "len(Text)"
   ]
  },
  {
   "cell_type": "markdown",
   "id": "94974be4",
   "metadata": {},
   "source": [
    "### Section 3 - Lists"
   ]
  },
  {
   "cell_type": "code",
   "execution_count": 27,
   "id": "da88e15a",
   "metadata": {},
   "outputs": [],
   "source": [
    "# Create a list of states in Nigeria\n",
    "# Abia\n",
    "# Adamawa\n",
    "# Akwa Ibom\n",
    "# Anambra\n",
    "# Bayelsa\n",
    "# Benue\n",
    "# Borno\n",
    "# Cross River\n",
    "# Nasarawa\n",
    "# Niger\n",
    "# Ogun\n",
    "# Ondo\n",
    "# Osun\n",
    "# Oyo\n",
    "# Plateau\n",
    "# Rivers\n",
    "# Sokoto\n",
    "# Taraba\n",
    "# Yobe\n",
    "# Zamfara\n",
    "\n",
    "#--------------- Write your code below----------------------------#"
   ]
  },
  {
   "cell_type": "code",
   "execution_count": 28,
   "id": "e144b227",
   "metadata": {},
   "outputs": [
    {
     "data": {
      "text/plain": [
       "['Abia',\n",
       " 'Adamawa',\n",
       " 'Akwa Ibom',\n",
       " 'Anambra',\n",
       " 'Bayelsa',\n",
       " 'Benue',\n",
       " 'Borno',\n",
       " 'Cross River',\n",
       " 'Nasarawa',\n",
       " 'Niger',\n",
       " 'Ogun',\n",
       " 'Ondo',\n",
       " 'Osun',\n",
       " 'Oyo',\n",
       " 'Plateau',\n",
       " 'Rivers',\n",
       " 'Sokoto',\n",
       " 'Taraba',\n",
       " 'Yobe',\n",
       " 'Zamfara']"
      ]
     },
     "execution_count": 28,
     "metadata": {},
     "output_type": "execute_result"
    }
   ],
   "source": [
    "states = [\"Abia\",\"Adamawa\",\"Akwa Ibom\", \"Anambra\", \"Bayelsa\", \"Benue\", \"Borno\", \"Cross River\", \"Nasarawa\", \"Niger\", \"Ogun\", \"Ondo\", \"Osun\", \"Oyo\", \"Plateau\", \"Rivers\", \"Sokoto\", \"Taraba\", \"Yobe\", \"Zamfara\"]\n",
    "states"
   ]
  },
  {
   "cell_type": "code",
   "execution_count": 29,
   "id": "c3c22425",
   "metadata": {},
   "outputs": [],
   "source": [
    "# Q2: Index and retrieve the first 10\n",
    "# Q3: Index and retrieve Cross River, Nasarawa, Niger, Ogun, Ondo, Osun, Oyo, Plateau\n",
    "# Q4: Use Negative indexing to retrieve the last 5 states\n",
    "\n",
    "#--------------- Write your code below----------------------------#"
   ]
  },
  {
   "cell_type": "code",
   "execution_count": 30,
   "id": "5c12cb99",
   "metadata": {},
   "outputs": [
    {
     "data": {
      "text/plain": [
       "['Abia',\n",
       " 'Adamawa',\n",
       " 'Akwa Ibom',\n",
       " 'Anambra',\n",
       " 'Bayelsa',\n",
       " 'Benue',\n",
       " 'Borno',\n",
       " 'Cross River',\n",
       " 'Nasarawa',\n",
       " 'Niger']"
      ]
     },
     "execution_count": 30,
     "metadata": {},
     "output_type": "execute_result"
    }
   ],
   "source": [
    "states[0:10]"
   ]
  },
  {
   "cell_type": "code",
   "execution_count": 31,
   "id": "3001b2da",
   "metadata": {},
   "outputs": [
    {
     "data": {
      "text/plain": [
       "['Cross River', 'Nasarawa', 'Niger', 'Ogun', 'Ondo', 'Osun', 'Oyo', 'Plateau']"
      ]
     },
     "execution_count": 31,
     "metadata": {},
     "output_type": "execute_result"
    }
   ],
   "source": [
    "states[7:15]"
   ]
  },
  {
   "cell_type": "code",
   "execution_count": 32,
   "id": "9e5978b3",
   "metadata": {},
   "outputs": [
    {
     "data": {
      "text/plain": [
       "20"
      ]
     },
     "execution_count": 32,
     "metadata": {},
     "output_type": "execute_result"
    }
   ],
   "source": [
    "len(states)"
   ]
  },
  {
   "cell_type": "code",
   "execution_count": 33,
   "id": "ad2b1756",
   "metadata": {},
   "outputs": [
    {
     "data": {
      "text/plain": [
       "['Rivers', 'Sokoto', 'Taraba', 'Yobe', 'Zamfara']"
      ]
     },
     "execution_count": 33,
     "metadata": {},
     "output_type": "execute_result"
    }
   ],
   "source": [
    "states[-5::]"
   ]
  },
  {
   "cell_type": "code",
   "execution_count": 34,
   "id": "c8c3ee4e",
   "metadata": {},
   "outputs": [],
   "source": [
    "#Q5: Add 4 new states\n",
    "\n",
    "#--------------- Write your code below----------------------------#"
   ]
  },
  {
   "cell_type": "code",
   "execution_count": 35,
   "id": "e4906e99",
   "metadata": {},
   "outputs": [
    {
     "data": {
      "text/plain": [
       "['Ekiti', 'Edo', 'Gombe', 'Kaduna']"
      ]
     },
     "execution_count": 35,
     "metadata": {},
     "output_type": "execute_result"
    }
   ],
   "source": [
    "Addit_state = [\"Ekiti\", \"Edo\", \"Gombe\", \"Kaduna\"]\n",
    "Addit_state"
   ]
  },
  {
   "cell_type": "code",
   "execution_count": 36,
   "id": "e0ac6970",
   "metadata": {},
   "outputs": [
    {
     "data": {
      "text/plain": [
       "['Abia',\n",
       " 'Adamawa',\n",
       " 'Akwa Ibom',\n",
       " 'Anambra',\n",
       " 'Bayelsa',\n",
       " 'Benue',\n",
       " 'Borno',\n",
       " 'Cross River',\n",
       " 'Nasarawa',\n",
       " 'Niger',\n",
       " 'Ogun',\n",
       " 'Ondo',\n",
       " 'Osun',\n",
       " 'Oyo',\n",
       " 'Plateau',\n",
       " 'Rivers',\n",
       " 'Sokoto',\n",
       " 'Taraba',\n",
       " 'Yobe',\n",
       " 'Zamfara',\n",
       " 'Ekiti',\n",
       " 'Edo',\n",
       " 'Gombe',\n",
       " 'Kaduna']"
      ]
     },
     "execution_count": 36,
     "metadata": {},
     "output_type": "execute_result"
    }
   ],
   "source": [
    "states.extend(Addit_state)\n",
    "states"
   ]
  },
  {
   "cell_type": "code",
   "execution_count": 37,
   "id": "44af840d",
   "metadata": {},
   "outputs": [],
   "source": [
    "#Q6: Confirm the length of the list\n",
    "\n",
    "#--------------- Write your code below----------------------------#"
   ]
  },
  {
   "cell_type": "code",
   "execution_count": 38,
   "id": "8d5e15ce",
   "metadata": {},
   "outputs": [
    {
     "data": {
      "text/plain": [
       "24"
      ]
     },
     "execution_count": 38,
     "metadata": {},
     "output_type": "execute_result"
    }
   ],
   "source": [
    "len(states)"
   ]
  },
  {
   "cell_type": "code",
   "execution_count": null,
   "id": "ff418ef0",
   "metadata": {},
   "outputs": [],
   "source": []
  },
  {
   "cell_type": "code",
   "execution_count": 39,
   "id": "07399d99",
   "metadata": {},
   "outputs": [],
   "source": [
    "#Q7. Remove Benue, Oyo and Yobe\n",
    "\n",
    "#--------------- Write your code below----------------------------#"
   ]
  },
  {
   "cell_type": "code",
   "execution_count": 40,
   "id": "69429cc9",
   "metadata": {},
   "outputs": [
    {
     "data": {
      "text/plain": [
       "['Abia',\n",
       " 'Adamawa',\n",
       " 'Akwa Ibom',\n",
       " 'Anambra',\n",
       " 'Bayelsa',\n",
       " 'Borno',\n",
       " 'Cross River',\n",
       " 'Nasarawa',\n",
       " 'Niger',\n",
       " 'Ogun',\n",
       " 'Ondo',\n",
       " 'Osun',\n",
       " 'Plateau',\n",
       " 'Rivers',\n",
       " 'Sokoto',\n",
       " 'Taraba',\n",
       " 'Zamfara',\n",
       " 'Ekiti',\n",
       " 'Edo',\n",
       " 'Gombe',\n",
       " 'Kaduna']"
      ]
     },
     "execution_count": 40,
     "metadata": {},
     "output_type": "execute_result"
    }
   ],
   "source": [
    "items = [\"Benue\", \"Oyo\", \"Yobe\"]\n",
    "for i in items:\n",
    "    del states[states.index(i)]\n",
    "states"
   ]
  },
  {
   "cell_type": "markdown",
   "id": "f53b08d6",
   "metadata": {},
   "source": [
    "### Section 4 - Dictionaries"
   ]
  },
  {
   "cell_type": "code",
   "execution_count": 41,
   "id": "9c4482e7",
   "metadata": {},
   "outputs": [],
   "source": [
    "# Q1 created a dictionary that takes name, age, occupation, location and a list of the last five meals you have had\n",
    "\n",
    "# dictionary = _ _ _ _ _ _ _ _ _ _ _ _\n",
    "\n",
    "# ---------------------write your code here -----------------------#"
   ]
  },
  {
   "cell_type": "code",
   "execution_count": 42,
   "id": "304ef755",
   "metadata": {},
   "outputs": [
    {
     "data": {
      "text/plain": [
       "{'name': 'Wakilu',\n",
       " 'age': 28,\n",
       " 'Occupation': 'IT Officer',\n",
       " 'location': 'Lagos',\n",
       " 'food': ['Eba', 'Rice', 'Beans', 'Semo']}"
      ]
     },
     "execution_count": 42,
     "metadata": {},
     "output_type": "execute_result"
    }
   ],
   "source": [
    "Dictionary = {\n",
    "    \"name\": \"Wakilu\",\n",
    "    \"age\": 28,\n",
    "    \"Occupation\": \"IT Officer\",\n",
    "    \"location\": \"Lagos\",\n",
    "    \"food\": [\"Eba\", \"Rice\", \"Beans\", \"Semo\"]\n",
    "\n",
    "} \n",
    "\n",
    "Dictionary\n"
   ]
  },
  {
   "cell_type": "code",
   "execution_count": null,
   "id": "0d3d3737",
   "metadata": {},
   "outputs": [],
   "source": []
  },
  {
   "cell_type": "code",
   "execution_count": 43,
   "id": "bd487498",
   "metadata": {},
   "outputs": [],
   "source": [
    "# Q2: Create a dictionary of states and governor in Nigeria\n",
    "\n",
    "# Abia State: nil\n",
    "# Anambra State: Willie Obiano\n",
    "# Benue State: Samuel Ortom\n",
    "# Delta State: Ifeanyi Okowa\n",
    "# Ekiti State: nil\n",
    "# Lagos State: Babajide Sanwo-Olu\n",
    "# Plateau State: Simon Lalong\n",
    "# Taraba State: Arch. Darius Ishaku\n",
    "# Kogi State: Yahaya Bello\n",
    "# Anambra State: Willie Obiano\n",
    "\n",
    "#--------------- Write your code below----------------------------#"
   ]
  },
  {
   "cell_type": "code",
   "execution_count": 44,
   "id": "c898dc45",
   "metadata": {},
   "outputs": [
    {
     "data": {
      "text/plain": [
       "{'Abia State': 'nil',\n",
       " 'Anambra State': 'Willie Obiano',\n",
       " 'Benue State': 'Samuel Ortom',\n",
       " 'Delta State': 'Ifeanyi Okowa',\n",
       " 'Ekiti State': 'nil',\n",
       " 'Lagos State': 'Babajide Sanwo-Olu',\n",
       " 'Plateau State': 'Simon Lalong',\n",
       " 'Taraba State': 'Arch. Darius Ishaku',\n",
       " 'Kogi State': 'Yahaya Bello'}"
      ]
     },
     "execution_count": 44,
     "metadata": {},
     "output_type": "execute_result"
    }
   ],
   "source": [
    "Name_Of_Governors = {\n",
    "\"Abia State\": \"nil\",\n",
    "\"Anambra State\":\"Willie Obiano\",\n",
    "\"Benue State\":\"Samuel Ortom\",\n",
    "\"Delta State\":\"Ifeanyi Okowa\",\n",
    "\"Ekiti State\":\"nil\",\n",
    "\"Lagos State\":\"Babajide Sanwo-Olu\",\n",
    "\"Plateau State\":\"Simon Lalong\",\n",
    "\"Taraba State\":\"Arch. Darius Ishaku\",\n",
    "\"Kogi State\":\"Yahaya Bello\",\n",
    "\"Anambra State\":\"Willie Obiano\",\n",
    "}\n",
    "Name_Of_Governors"
   ]
  },
  {
   "cell_type": "code",
   "execution_count": 45,
   "id": "c7552fe0",
   "metadata": {},
   "outputs": [],
   "source": [
    "# Q3: update Abia and Ekiti (Okezie Ikpeazu, Kayode Fayemi)\n",
    "\n",
    "#--------------- Write your code below----------------------------#"
   ]
  },
  {
   "cell_type": "code",
   "execution_count": 46,
   "id": "98ed780d",
   "metadata": {},
   "outputs": [
    {
     "data": {
      "text/plain": [
       "{'Abia State': 'Okezie Ikpeazu',\n",
       " 'Anambra State': 'Willie Obiano',\n",
       " 'Benue State': 'Samuel Ortom',\n",
       " 'Delta State': 'Ifeanyi Okowa',\n",
       " 'Ekiti State': 'Kayode Fayemi',\n",
       " 'Lagos State': 'Babajide Sanwo-Olu',\n",
       " 'Plateau State': 'Simon Lalong',\n",
       " 'Taraba State': 'Arch. Darius Ishaku',\n",
       " 'Kogi State': 'Yahaya Bello'}"
      ]
     },
     "execution_count": 46,
     "metadata": {},
     "output_type": "execute_result"
    }
   ],
   "source": [
    "Name_Of_Governors.update({\n",
    "    \"Abia State\": \"Okezie Ikpeazu\",\n",
    "    \"Ekiti State\": \"Kayode Fayemi\"\n",
    "})\n",
    "Name_Of_Governors"
   ]
  },
  {
   "cell_type": "code",
   "execution_count": null,
   "id": "46532ec2",
   "metadata": {},
   "outputs": [],
   "source": []
  },
  {
   "cell_type": "code",
   "execution_count": 47,
   "id": "cc260383",
   "metadata": {},
   "outputs": [],
   "source": [
    "# Q4: Add\n",
    "# Cross River State: Benedict Ayade\n",
    "# Ebonyi State: Dave Umahi\n",
    "# Sokoto State: Aminu Waziri Tambuwal\n",
    "\n",
    "#--------------- Write your code below----------------------------#"
   ]
  },
  {
   "cell_type": "code",
   "execution_count": 48,
   "id": "3863c606",
   "metadata": {},
   "outputs": [
    {
     "data": {
      "text/plain": [
       "{'Abia State': 'Okezie Ikpeazu',\n",
       " 'Anambra State': 'Willie Obiano',\n",
       " 'Benue State': 'Samuel Ortom',\n",
       " 'Delta State': 'Ifeanyi Okowa',\n",
       " 'Ekiti State': 'Kayode Fayemi',\n",
       " 'Lagos State': 'Babajide Sanwo-Olu',\n",
       " 'Plateau State': 'Simon Lalong',\n",
       " 'Taraba State': 'Arch. Darius Ishaku',\n",
       " 'Kogi State': 'Yahaya Bello',\n",
       " 'Cross River State': 'Benedict Ayade',\n",
       " 'Ebonyi State': 'Dave Umahi',\n",
       " 'Sokoto State': 'Aminu Waziri Tambuwal'}"
      ]
     },
     "execution_count": 48,
     "metadata": {},
     "output_type": "execute_result"
    }
   ],
   "source": [
    "Name_Of_Governors.update({\"Cross River State\": \"Benedict Ayade\",\n",
    "                          \"Ebonyi State\": \"Dave Umahi\",\n",
    "                          \"Sokoto State\": \"Aminu Waziri Tambuwal\"\n",
    "                      })\n",
    "Name_Of_Governors"
   ]
  },
  {
   "cell_type": "code",
   "execution_count": 49,
   "id": "24d9cc94",
   "metadata": {},
   "outputs": [],
   "source": [
    "# Q5: Remove Ondo, Sokoto, taraba and Kogi from the dictionary\n",
    "\n",
    "#--------------- Write your code below----------------------------#"
   ]
  },
  {
   "cell_type": "code",
   "execution_count": 50,
   "id": "fd4c7c41",
   "metadata": {},
   "outputs": [
    {
     "data": {
      "text/plain": [
       "{'Abia State': 'Okezie Ikpeazu',\n",
       " 'Anambra State': 'Willie Obiano',\n",
       " 'Benue State': 'Samuel Ortom',\n",
       " 'Delta State': 'Ifeanyi Okowa',\n",
       " 'Ekiti State': 'Kayode Fayemi',\n",
       " 'Lagos State': 'Babajide Sanwo-Olu',\n",
       " 'Plateau State': 'Simon Lalong',\n",
       " 'Cross River State': 'Benedict Ayade',\n",
       " 'Ebonyi State': 'Dave Umahi'}"
      ]
     },
     "execution_count": 50,
     "metadata": {},
     "output_type": "execute_result"
    }
   ],
   "source": [
    "Keys = [\"Ondo State\", \"Sokoto State\", \"Taraba State\", \"Kogi State\"]\n",
    "for key in Keys:\n",
    "    Name_Of_Governors.pop(key, None)\n",
    "Name_Of_Governors"
   ]
  },
  {
   "cell_type": "code",
   "execution_count": null,
   "id": "af9185c3",
   "metadata": {},
   "outputs": [],
   "source": []
  },
  {
   "cell_type": "markdown",
   "id": "49396973",
   "metadata": {},
   "source": []
  },
  {
   "cell_type": "code",
   "execution_count": 51,
   "id": "fe3fa884",
   "metadata": {},
   "outputs": [],
   "source": [
    "# Get atleast 5 random numbers using a single input function\n",
    "# convert these inputs to a list\n",
    "# finally obtain the mean of these numbers\n",
    "\n",
    "\n",
    "# list1 = [100, 200, 300, 400, 500]\n",
    "\n",
    "# ---------------------write your code here -----------------------#"
   ]
  },
  {
   "cell_type": "code",
   "execution_count": 59,
   "id": "30305693",
   "metadata": {},
   "outputs": [
    {
     "name": "stdout",
     "output_type": "stream",
     "text": [
      "[20, 29, 8, 9, 21]\n"
     ]
    }
   ],
   "source": [
    "import random\n",
    "randomlist = []\n",
    "for i in range(0,5):\n",
    "    n = random.randint(1,30)\n",
    "    randomlist.append(n)\n",
    "print(randomlist)"
   ]
  },
  {
   "cell_type": "code",
   "execution_count": 60,
   "id": "0f0aede8",
   "metadata": {},
   "outputs": [
    {
     "data": {
      "text/plain": [
       "[20, 29, 8, 9, 21]"
      ]
     },
     "execution_count": 60,
     "metadata": {},
     "output_type": "execute_result"
    }
   ],
   "source": [
    "randomlist"
   ]
  },
  {
   "cell_type": "code",
   "execution_count": 61,
   "id": "442300a0",
   "metadata": {},
   "outputs": [
    {
     "data": {
      "text/plain": [
       "87"
      ]
     },
     "execution_count": 61,
     "metadata": {},
     "output_type": "execute_result"
    }
   ],
   "source": [
    "list_1 = randomlist[0] + randomlist[1] + randomlist[2] + randomlist[3] + randomlist[4]\n",
    "list_1"
   ]
  },
  {
   "cell_type": "code",
   "execution_count": 62,
   "id": "22fbf525",
   "metadata": {},
   "outputs": [
    {
     "data": {
      "text/plain": [
       "5"
      ]
     },
     "execution_count": 62,
     "metadata": {},
     "output_type": "execute_result"
    }
   ],
   "source": [
    "len(randomlist)"
   ]
  },
  {
   "cell_type": "code",
   "execution_count": 63,
   "id": "d1b629f5",
   "metadata": {},
   "outputs": [
    {
     "data": {
      "text/plain": [
       "17.4"
      ]
     },
     "execution_count": 63,
     "metadata": {},
     "output_type": "execute_result"
    }
   ],
   "source": [
    "mean = list_1 / 5\n",
    "mean "
   ]
  },
  {
   "cell_type": "code",
   "execution_count": null,
   "id": "97e14bd1",
   "metadata": {},
   "outputs": [],
   "source": []
  },
  {
   "cell_type": "markdown",
   "id": "0afe83f6",
   "metadata": {},
   "source": [
    "### Section 5 - Set"
   ]
  },
  {
   "cell_type": "code",
   "execution_count": null,
   "id": "c0dae0ec",
   "metadata": {},
   "outputs": [],
   "source": [
    "# add all the elements of sample_list into a given sample_set.\n",
    "\n",
    "# sample_set = {\"Yellow\", \"Orange\", \"Black\"}\n",
    "# sample_list = [\"Blue\", \"Green\", \"Red\", \"white\"]\n",
    "\n",
    "# ---------------------write your code here -----------------------#"
   ]
  },
  {
   "cell_type": "code",
   "execution_count": 54,
   "id": "5695f550",
   "metadata": {},
   "outputs": [
    {
     "data": {
      "text/plain": [
       "{'Black', 'Orange', 'Yellow'}"
      ]
     },
     "execution_count": 54,
     "metadata": {},
     "output_type": "execute_result"
    }
   ],
   "source": [
    "sample_set = {\"Yellow\", \"Orange\", \"Black\"}\n",
    "sample_set"
   ]
  },
  {
   "cell_type": "code",
   "execution_count": 55,
   "id": "18719305",
   "metadata": {},
   "outputs": [
    {
     "data": {
      "text/plain": [
       "['Blue', 'Green', 'Red', 'white']"
      ]
     },
     "execution_count": 55,
     "metadata": {},
     "output_type": "execute_result"
    }
   ],
   "source": [
    "sample_list = [\"Blue\", \"Green\", \"Red\", \"white\"]\n",
    "sample_list"
   ]
  },
  {
   "cell_type": "code",
   "execution_count": 58,
   "id": "a5a91ac6",
   "metadata": {},
   "outputs": [
    {
     "data": {
      "text/plain": [
       "{'Black', 'Blue', 'Green', 'Orange', 'Red', 'Yellow', 'white'}"
      ]
     },
     "execution_count": 58,
     "metadata": {},
     "output_type": "execute_result"
    }
   ],
   "source": [
    "sample_set.update(sample_list)\n",
    "sample_set"
   ]
  },
  {
   "cell_type": "code",
   "execution_count": null,
   "id": "55087267",
   "metadata": {},
   "outputs": [],
   "source": []
  }
 ],
 "metadata": {
  "kernelspec": {
   "display_name": "Python 3 (ipykernel)",
   "language": "python",
   "name": "python3"
  },
  "language_info": {
   "codemirror_mode": {
    "name": "ipython",
    "version": 3
   },
   "file_extension": ".py",
   "mimetype": "text/x-python",
   "name": "python",
   "nbconvert_exporter": "python",
   "pygments_lexer": "ipython3",
   "version": "3.9.12"
  }
 },
 "nbformat": 4,
 "nbformat_minor": 5
}
