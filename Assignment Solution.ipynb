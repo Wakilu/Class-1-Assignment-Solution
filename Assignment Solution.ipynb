{
 "cells": [
  {
   "cell_type": "code",
   "execution_count": 1,
   "id": "744ba7a3",
   "metadata": {},
   "outputs": [],
   "source": [
    "#DATA TYPES\n",
    "#-NUMBERS (Integer or float)\n",
    "#-TEXT (String)\n",
    "#-BOOLEANS (True or False)\n",
    "#-LIST\n",
    "#-TUPLES\n",
    "#-DICTIONARIES\n",
    "#-SETS\n"
   ]
  },
  {
   "cell_type": "code",
   "execution_count": 2,
   "id": "69159d14",
   "metadata": {},
   "outputs": [
    {
     "data": {
      "text/plain": [
       "10000"
      ]
     },
     "execution_count": 2,
     "metadata": {},
     "output_type": "execute_result"
    }
   ],
   "source": [
    "# Integer \n",
    "10000"
   ]
  },
  {
   "cell_type": "code",
   "execution_count": 3,
   "id": "c4035c08",
   "metadata": {},
   "outputs": [
    {
     "data": {
      "text/plain": [
       "60000"
      ]
     },
     "execution_count": 3,
     "metadata": {},
     "output_type": "execute_result"
    }
   ],
   "source": [
    "10000*6"
   ]
  },
  {
   "cell_type": "code",
   "execution_count": 4,
   "id": "02f68fe9",
   "metadata": {},
   "outputs": [
    {
     "data": {
      "text/plain": [
       "15000"
      ]
     },
     "execution_count": 4,
     "metadata": {},
     "output_type": "execute_result"
    }
   ],
   "source": [
    "10000+5000"
   ]
  },
  {
   "cell_type": "code",
   "execution_count": 5,
   "id": "91025021",
   "metadata": {},
   "outputs": [
    {
     "data": {
      "text/plain": [
       "int"
      ]
     },
     "execution_count": 5,
     "metadata": {},
     "output_type": "execute_result"
    }
   ],
   "source": [
    "type(15000)"
   ]
  },
  {
   "cell_type": "code",
   "execution_count": 6,
   "id": "e43e7882",
   "metadata": {},
   "outputs": [
    {
     "data": {
      "text/plain": [
       "6000.5"
      ]
     },
     "execution_count": 6,
     "metadata": {},
     "output_type": "execute_result"
    }
   ],
   "source": [
    "# Float\n",
    "6000.50"
   ]
  },
  {
   "cell_type": "code",
   "execution_count": 7,
   "id": "d1901496",
   "metadata": {},
   "outputs": [
    {
     "data": {
      "text/plain": [
       "30002.5"
      ]
     },
     "execution_count": 7,
     "metadata": {},
     "output_type": "execute_result"
    }
   ],
   "source": [
    "6000.50*5"
   ]
  },
  {
   "cell_type": "code",
   "execution_count": 8,
   "id": "ac3b5a9e",
   "metadata": {},
   "outputs": [
    {
     "data": {
      "text/plain": [
       "800.0"
      ]
     },
     "execution_count": 8,
     "metadata": {},
     "output_type": "execute_result"
    }
   ],
   "source": [
    "4000/5"
   ]
  },
  {
   "cell_type": "code",
   "execution_count": 9,
   "id": "d0867535",
   "metadata": {},
   "outputs": [
    {
     "data": {
      "text/plain": [
       "float"
      ]
     },
     "execution_count": 9,
     "metadata": {},
     "output_type": "execute_result"
    }
   ],
   "source": [
    "type(4000/5)"
   ]
  },
  {
   "cell_type": "code",
   "execution_count": 10,
   "id": "27a0f513",
   "metadata": {},
   "outputs": [
    {
     "data": {
      "text/plain": [
       "18"
      ]
     },
     "execution_count": 10,
     "metadata": {},
     "output_type": "execute_result"
    }
   ],
   "source": [
    "# Basic Arithemetic \n",
    "10+8"
   ]
  },
  {
   "cell_type": "code",
   "execution_count": 11,
   "id": "c214247f",
   "metadata": {},
   "outputs": [
    {
     "data": {
      "text/plain": [
       "48"
      ]
     },
     "execution_count": 11,
     "metadata": {},
     "output_type": "execute_result"
    }
   ],
   "source": [
    "8*6"
   ]
  },
  {
   "cell_type": "code",
   "execution_count": 12,
   "id": "07a57a2b",
   "metadata": {},
   "outputs": [
    {
     "data": {
      "text/plain": [
       "4.666666666666667"
      ]
     },
     "execution_count": 12,
     "metadata": {},
     "output_type": "execute_result"
    }
   ],
   "source": [
    "28/6"
   ]
  },
  {
   "cell_type": "code",
   "execution_count": 13,
   "id": "485a50a1",
   "metadata": {},
   "outputs": [
    {
     "data": {
      "text/plain": [
       "36"
      ]
     },
     "execution_count": 13,
     "metadata": {},
     "output_type": "execute_result"
    }
   ],
   "source": [
    "# Flood Division\n",
    "180//5"
   ]
  },
  {
   "cell_type": "code",
   "execution_count": 14,
   "id": "ace5c67a",
   "metadata": {},
   "outputs": [
    {
     "data": {
      "text/plain": [
       "3"
      ]
     },
     "execution_count": 14,
     "metadata": {},
     "output_type": "execute_result"
    }
   ],
   "source": [
    "32//9"
   ]
  },
  {
   "cell_type": "code",
   "execution_count": 15,
   "id": "4e3b53d1",
   "metadata": {},
   "outputs": [
    {
     "data": {
      "text/plain": [
       "4"
      ]
     },
     "execution_count": 15,
     "metadata": {},
     "output_type": "execute_result"
    }
   ],
   "source": [
    "# modulo\n",
    "64%5"
   ]
  },
  {
   "cell_type": "code",
   "execution_count": 16,
   "id": "74ea6115",
   "metadata": {},
   "outputs": [
    {
     "data": {
      "text/plain": [
       "9"
      ]
     },
     "execution_count": 16,
     "metadata": {},
     "output_type": "execute_result"
    }
   ],
   "source": [
    "109%10"
   ]
  },
  {
   "cell_type": "code",
   "execution_count": 17,
   "id": "c67414bb",
   "metadata": {},
   "outputs": [
    {
     "data": {
      "text/plain": [
       "46656"
      ]
     },
     "execution_count": 17,
     "metadata": {},
     "output_type": "execute_result"
    }
   ],
   "source": [
    "# Raised to Power\n",
    "6**6"
   ]
  },
  {
   "cell_type": "code",
   "execution_count": 18,
   "id": "8203417e",
   "metadata": {},
   "outputs": [
    {
     "data": {
      "text/plain": [
       "20736"
      ]
     },
     "execution_count": 18,
     "metadata": {},
     "output_type": "execute_result"
    }
   ],
   "source": [
    "12**4"
   ]
  },
  {
   "cell_type": "code",
   "execution_count": 19,
   "id": "26f0ea58",
   "metadata": {},
   "outputs": [
    {
     "data": {
      "text/plain": [
       "0.3888888888888889"
      ]
     },
     "execution_count": 19,
     "metadata": {},
     "output_type": "execute_result"
    }
   ],
   "source": [
    "# Bodmas\n",
    "(6+8)/(9*4)"
   ]
  },
  {
   "cell_type": "code",
   "execution_count": 20,
   "id": "8d67e504",
   "metadata": {},
   "outputs": [
    {
     "data": {
      "text/plain": [
       "6.222222222222222"
      ]
     },
     "execution_count": 20,
     "metadata": {},
     "output_type": "execute_result"
    }
   ],
   "source": [
    "6+8 / (9*4)"
   ]
  },
  {
   "cell_type": "code",
   "execution_count": 21,
   "id": "d95bc506",
   "metadata": {},
   "outputs": [],
   "source": [
    "# Variable Assignment"
   ]
  },
  {
   "cell_type": "code",
   "execution_count": 22,
   "id": "d7c77f33",
   "metadata": {},
   "outputs": [],
   "source": [
    "Profit = 800"
   ]
  },
  {
   "cell_type": "code",
   "execution_count": 23,
   "id": "455a9ba4",
   "metadata": {},
   "outputs": [
    {
     "data": {
      "text/plain": [
       "800"
      ]
     },
     "execution_count": 23,
     "metadata": {},
     "output_type": "execute_result"
    }
   ],
   "source": [
    "Profit"
   ]
  },
  {
   "cell_type": "code",
   "execution_count": 24,
   "id": "fced144a",
   "metadata": {},
   "outputs": [
    {
     "data": {
      "text/plain": [
       "3200"
      ]
     },
     "execution_count": 24,
     "metadata": {},
     "output_type": "execute_result"
    }
   ],
   "source": [
    "Profit *4"
   ]
  },
  {
   "cell_type": "code",
   "execution_count": 25,
   "id": "27b36a32",
   "metadata": {},
   "outputs": [
    {
     "data": {
      "text/plain": [
       "400.0"
      ]
     },
     "execution_count": 25,
     "metadata": {},
     "output_type": "execute_result"
    }
   ],
   "source": [
    "Profit / 2"
   ]
  },
  {
   "cell_type": "code",
   "execution_count": 26,
   "id": "93e6e98b",
   "metadata": {},
   "outputs": [
    {
     "data": {
      "text/plain": [
       "float"
      ]
     },
     "execution_count": 26,
     "metadata": {},
     "output_type": "execute_result"
    }
   ],
   "source": [
    "type(400.0)"
   ]
  },
  {
   "cell_type": "code",
   "execution_count": 27,
   "id": "2428b335",
   "metadata": {},
   "outputs": [
    {
     "data": {
      "text/plain": [
       "40800"
      ]
     },
     "execution_count": 27,
     "metadata": {},
     "output_type": "execute_result"
    }
   ],
   "source": [
    "Sales = Profit + 40000\n",
    "Sales"
   ]
  },
  {
   "cell_type": "code",
   "execution_count": 28,
   "id": "80da1cb9",
   "metadata": {},
   "outputs": [],
   "source": [
    "Toluwani = 5000"
   ]
  },
  {
   "cell_type": "code",
   "execution_count": 29,
   "id": "cd603f77",
   "metadata": {},
   "outputs": [
    {
     "data": {
      "text/plain": [
       "1250.0"
      ]
     },
     "execution_count": 29,
     "metadata": {},
     "output_type": "execute_result"
    }
   ],
   "source": [
    "Adegoke = Toluwani/4\n",
    "Adegoke"
   ]
  },
  {
   "cell_type": "code",
   "execution_count": 30,
   "id": "a6298a28",
   "metadata": {},
   "outputs": [
    {
     "data": {
      "text/plain": [
       "5100"
      ]
     },
     "execution_count": 30,
     "metadata": {},
     "output_type": "execute_result"
    }
   ],
   "source": [
    "# Test calculator\n",
    "\n",
    "January_sale = 200\n",
    "Febuary_sale = 100\n",
    "March_sale = 300\n",
    "April_sale = 200\n",
    "May_sale = 700\n",
    "June_sale = 900\n",
    "July_sale = 200\n",
    "August_sale = 400\n",
    "September_sale = 600\n",
    "Octomber_sale = 500\n",
    "November_sale = 800\n",
    "December_sale = 400\n",
    "\n",
    "\n",
    "Total_sales = January_sale + Febuary_sale + March_sale + May_sale + June_sale + July_sale + August_sale + September_sale + Octomber_sale + November_sale + December_sale\n",
    "\n",
    "Total_sales"
   ]
  },
  {
   "cell_type": "code",
   "execution_count": 38,
   "id": "3f9289fd",
   "metadata": {},
   "outputs": [
    {
     "name": "stdout",
     "output_type": "stream",
     "text": [
      "what is your first digit? 50\n",
      "what is your second digit? 25\n",
      "what is your third digit? 13\n",
      "what is your forty digit? 12\n"
     ]
    },
    {
     "data": {
      "text/plain": [
       "100.0"
      ]
     },
     "execution_count": 38,
     "metadata": {},
     "output_type": "execute_result"
    }
   ],
   "source": [
    "first_digit = float(input(\"what is your first digit? \"))\n",
    "second_digit = float(input(\"what is your second digit? \"))\n",
    "third_digit = float(input(\"what is your third digit? \"))\n",
    "forty_digit = float(input(\"what is your forty digit? \"))\n",
    "\n",
    "\n",
    "total_digit = first_digit + second_digit + third_digit + forty_digit\n",
    "total_digit"
   ]
  },
  {
   "cell_type": "code",
   "execution_count": 32,
   "id": "a202c41a",
   "metadata": {},
   "outputs": [],
   "source": [
    "# String - text"
   ]
  },
  {
   "cell_type": "code",
   "execution_count": 33,
   "id": "89e480f7",
   "metadata": {},
   "outputs": [
    {
     "data": {
      "text/plain": [
       "'hello world'"
      ]
     },
     "execution_count": 33,
     "metadata": {},
     "output_type": "execute_result"
    }
   ],
   "source": [
    "\"hello world\""
   ]
  },
  {
   "cell_type": "code",
   "execution_count": 34,
   "id": "c668d036",
   "metadata": {},
   "outputs": [
    {
     "data": {
      "text/plain": [
       "\"i'm doing good\""
      ]
     },
     "execution_count": 34,
     "metadata": {},
     "output_type": "execute_result"
    }
   ],
   "source": [
    "\"i'm doing good\""
   ]
  },
  {
   "cell_type": "code",
   "execution_count": 35,
   "id": "17ba0cfe",
   "metadata": {},
   "outputs": [
    {
     "data": {
      "text/plain": [
       "\"i'm doing good\""
      ]
     },
     "execution_count": 35,
     "metadata": {},
     "output_type": "execute_result"
    }
   ],
   "source": [
    "'i\\'m doing good'"
   ]
  },
  {
   "cell_type": "code",
   "execution_count": 36,
   "id": "6ec731f4",
   "metadata": {},
   "outputs": [
    {
     "data": {
      "text/plain": [
       "'Wakilu Oloyade'"
      ]
     },
     "execution_count": 36,
     "metadata": {},
     "output_type": "execute_result"
    }
   ],
   "source": [
    "# full name generator\n",
    "\n",
    "first_name = \"Wakilu\"\n",
    "last_name = \"Oloyade\"\n",
    "\n",
    "full_name = first_name + \" \" + last_name\n",
    "\n",
    "full_name"
   ]
  },
  {
   "cell_type": "code",
   "execution_count": 39,
   "id": "4340ca78",
   "metadata": {},
   "outputs": [],
   "source": [
    "# Indexing slicing"
   ]
  },
  {
   "cell_type": "code",
   "execution_count": 40,
   "id": "f4f6f3ce",
   "metadata": {},
   "outputs": [
    {
     "data": {
      "text/plain": [
       "'Wakilu Oloyade'"
      ]
     },
     "execution_count": 40,
     "metadata": {},
     "output_type": "execute_result"
    }
   ],
   "source": [
    "full_name"
   ]
  },
  {
   "cell_type": "code",
   "execution_count": 41,
   "id": "f53ff5de",
   "metadata": {},
   "outputs": [
    {
     "data": {
      "text/plain": [
       "'l'"
      ]
     },
     "execution_count": 41,
     "metadata": {},
     "output_type": "execute_result"
    }
   ],
   "source": [
    "full_name[8]"
   ]
  },
  {
   "cell_type": "code",
   "execution_count": 43,
   "id": "1701e824",
   "metadata": {},
   "outputs": [
    {
     "data": {
      "text/plain": [
       "'k'"
      ]
     },
     "execution_count": 43,
     "metadata": {},
     "output_type": "execute_result"
    }
   ],
   "source": [
    "full_name[2]"
   ]
  },
  {
   "cell_type": "code",
   "execution_count": 44,
   "id": "81b638b7",
   "metadata": {},
   "outputs": [],
   "source": [
    "# Slicing - [START: STOP: STEP]"
   ]
  },
  {
   "cell_type": "code",
   "execution_count": 45,
   "id": "0af4d0d3",
   "metadata": {},
   "outputs": [
    {
     "data": {
      "text/plain": [
       "'Wakilu O'"
      ]
     },
     "execution_count": 45,
     "metadata": {},
     "output_type": "execute_result"
    }
   ],
   "source": [
    "full_name[0:8]"
   ]
  },
  {
   "cell_type": "code",
   "execution_count": 47,
   "id": "43cbf1cb",
   "metadata": {},
   "outputs": [
    {
     "data": {
      "text/plain": [
       "'yade'"
      ]
     },
     "execution_count": 47,
     "metadata": {},
     "output_type": "execute_result"
    }
   ],
   "source": [
    "full_name[10:14]"
   ]
  },
  {
   "cell_type": "code",
   "execution_count": 48,
   "id": "f13a0419",
   "metadata": {},
   "outputs": [],
   "source": [
    "num = \"123456789\""
   ]
  },
  {
   "cell_type": "code",
   "execution_count": 49,
   "id": "c4aaa940",
   "metadata": {},
   "outputs": [
    {
     "data": {
      "text/plain": [
       "'1234'"
      ]
     },
     "execution_count": 49,
     "metadata": {},
     "output_type": "execute_result"
    }
   ],
   "source": [
    "num[0:4]"
   ]
  },
  {
   "cell_type": "code",
   "execution_count": 50,
   "id": "70a2a92f",
   "metadata": {},
   "outputs": [
    {
     "data": {
      "text/plain": [
       "'56789'"
      ]
     },
     "execution_count": 50,
     "metadata": {},
     "output_type": "execute_result"
    }
   ],
   "source": [
    "num[4:9]"
   ]
  },
  {
   "cell_type": "code",
   "execution_count": 51,
   "id": "8689fa5c",
   "metadata": {},
   "outputs": [
    {
     "data": {
      "text/plain": [
       "'7'"
      ]
     },
     "execution_count": 51,
     "metadata": {},
     "output_type": "execute_result"
    }
   ],
   "source": [
    "# Negetive Indexing\n",
    "num[-3]"
   ]
  },
  {
   "cell_type": "code",
   "execution_count": 52,
   "id": "998fb3da",
   "metadata": {},
   "outputs": [
    {
     "data": {
      "text/plain": [
       "'258'"
      ]
     },
     "execution_count": 52,
     "metadata": {},
     "output_type": "execute_result"
    }
   ],
   "source": [
    "num[1::3]"
   ]
  },
  {
   "cell_type": "code",
   "execution_count": 56,
   "id": "8ec0417b",
   "metadata": {},
   "outputs": [
    {
     "data": {
      "text/plain": [
       "'13579'"
      ]
     },
     "execution_count": 56,
     "metadata": {},
     "output_type": "execute_result"
    }
   ],
   "source": [
    "num[0::2]"
   ]
  },
  {
   "cell_type": "code",
   "execution_count": 57,
   "id": "72329cdf",
   "metadata": {},
   "outputs": [],
   "source": [
    "# Print Formating\n",
    "\n",
    "# .format method\n",
    "# placeholder\n",
    "# f-string"
   ]
  },
  {
   "cell_type": "code",
   "execution_count": 59,
   "id": "a954a2dc",
   "metadata": {},
   "outputs": [
    {
     "name": "stdout",
     "output_type": "stream",
     "text": [
      "my name is Wakilu and i am 32 years old\n"
     ]
    }
   ],
   "source": [
    "# .format method\n",
    "\n",
    "name = \"Wakilu\"\n",
    "age = 32\n",
    "\n",
    "print(\"my name is {} and i am {} years old\".format(name, age))"
   ]
  },
  {
   "cell_type": "code",
   "execution_count": 61,
   "id": "c32c7574",
   "metadata": {},
   "outputs": [
    {
     "name": "stdout",
     "output_type": "stream",
     "text": [
      "what is your name? Wakilu\n",
      "how old are you? 32\n",
      "my name is Wakilu and i am 32 years old\n"
     ]
    }
   ],
   "source": [
    "# .format method\n",
    "\n",
    "name = input(\"what is your name? \")\n",
    "age = int(input(\"how old are you? \"))\n",
    "\n",
    "print(\"my name is {} and i am {} years old\".format(name, age))"
   ]
  },
  {
   "cell_type": "code",
   "execution_count": 65,
   "id": "f3a7e071",
   "metadata": {},
   "outputs": [
    {
     "name": "stdout",
     "output_type": "stream",
     "text": [
      "what is your name? Adegoke\n",
      "how old are you? 50\n",
      "my name is Adegoke and i am 50 years old\n"
     ]
    }
   ],
   "source": [
    "# placeholder\n",
    "\n",
    "name = input(\"what is your name? \")\n",
    "age = int(input(\"how old are you? \"))\n",
    "\n",
    "print(\"my name is %s and i am %s years old\" %(name, age))"
   ]
  },
  {
   "cell_type": "code",
   "execution_count": 66,
   "id": "da569cc2",
   "metadata": {},
   "outputs": [
    {
     "name": "stdout",
     "output_type": "stream",
     "text": [
      "what is your name? Oloyade\n",
      "how old are you? 60\n",
      "my name is Oloyade and i am 60 years old\n"
     ]
    }
   ],
   "source": [
    "# f-string\n",
    "\n",
    "name = input(\"what is your name? \")\n",
    "age = int(input(\"how old are you? \"))\n",
    "\n",
    "print(f\"my name is {name} and i am {age} years old\")"
   ]
  },
  {
   "cell_type": "code",
   "execution_count": 67,
   "id": "993f07db",
   "metadata": {},
   "outputs": [],
   "source": [
    "# list\n",
    "# An ordered sequence of items is called list\n",
    "# The list is the data type that is higherly used data type in python\n",
    "# Contains versatile data"
   ]
  },
  {
   "cell_type": "code",
   "execution_count": 76,
   "id": "b5bc17a9",
   "metadata": {},
   "outputs": [],
   "source": [
    "names = [\"Wakilu\", \"Ademuyiwa\", \"Ayoola\", \"Sola\", \"Oloyade\", \"Saheed\"]"
   ]
  },
  {
   "cell_type": "code",
   "execution_count": 69,
   "id": "c1780dac",
   "metadata": {},
   "outputs": [
    {
     "data": {
      "text/plain": [
       "list"
      ]
     },
     "execution_count": 69,
     "metadata": {},
     "output_type": "execute_result"
    }
   ],
   "source": [
    "type(names)"
   ]
  },
  {
   "cell_type": "code",
   "execution_count": 70,
   "id": "7dee81e3",
   "metadata": {},
   "outputs": [],
   "source": [
    "my_list = [1, 2, 3, \"Safe\", \"Yes\", \"Kola\", 7, 8 ]"
   ]
  },
  {
   "cell_type": "code",
   "execution_count": 71,
   "id": "9668e07c",
   "metadata": {},
   "outputs": [
    {
     "data": {
      "text/plain": [
       "[1, 2, 3, 'Safe', 'Yes', 'Kola', 7, 8]"
      ]
     },
     "execution_count": 71,
     "metadata": {},
     "output_type": "execute_result"
    }
   ],
   "source": [
    "my_list"
   ]
  },
  {
   "cell_type": "code",
   "execution_count": 72,
   "id": "bcb09fde",
   "metadata": {},
   "outputs": [
    {
     "data": {
      "text/plain": [
       "list"
      ]
     },
     "execution_count": 72,
     "metadata": {},
     "output_type": "execute_result"
    }
   ],
   "source": [
    "type(my_list)"
   ]
  },
  {
   "cell_type": "code",
   "execution_count": 77,
   "id": "ffa80ac7",
   "metadata": {},
   "outputs": [],
   "source": [
    "# Indexinig and slicing\n",
    "\n",
    "names =  [\"Wakilu\", \"Ademuyiwa\", \"Ayoola\", \"Sola\", \"Oloyade\", \"Saheed\"]"
   ]
  },
  {
   "cell_type": "code",
   "execution_count": 74,
   "id": "0b2b60e5",
   "metadata": {},
   "outputs": [
    {
     "data": {
      "text/plain": [
       "'Wakilu'"
      ]
     },
     "execution_count": 74,
     "metadata": {},
     "output_type": "execute_result"
    }
   ],
   "source": [
    "names[0]"
   ]
  },
  {
   "cell_type": "code",
   "execution_count": 78,
   "id": "9005cb67",
   "metadata": {},
   "outputs": [
    {
     "data": {
      "text/plain": [
       "'Oloyade'"
      ]
     },
     "execution_count": 78,
     "metadata": {},
     "output_type": "execute_result"
    }
   ],
   "source": [
    "names[4]"
   ]
  },
  {
   "cell_type": "code",
   "execution_count": 79,
   "id": "258c8bfb",
   "metadata": {},
   "outputs": [
    {
     "data": {
      "text/plain": [
       "['Wakilu', 'Ademuyiwa', 'Ayoola', 'Sola']"
      ]
     },
     "execution_count": 79,
     "metadata": {},
     "output_type": "execute_result"
    }
   ],
   "source": [
    "names[0:4]"
   ]
  },
  {
   "cell_type": "code",
   "execution_count": 81,
   "id": "d4510b96",
   "metadata": {},
   "outputs": [
    {
     "data": {
      "text/plain": [
       "['Ademuyiwa', 'Ayoola', 'Sola', 'Oloyade']"
      ]
     },
     "execution_count": 81,
     "metadata": {},
     "output_type": "execute_result"
    }
   ],
   "source": [
    "names[1:5]"
   ]
  },
  {
   "cell_type": "code",
   "execution_count": 83,
   "id": "d3e7c7ef",
   "metadata": {},
   "outputs": [
    {
     "data": {
      "text/plain": [
       "['Oloyade', 'Saheed']"
      ]
     },
     "execution_count": 83,
     "metadata": {},
     "output_type": "execute_result"
    }
   ],
   "source": [
    "names[4:6]"
   ]
  },
  {
   "cell_type": "code",
   "execution_count": 88,
   "id": "38c26229",
   "metadata": {},
   "outputs": [
    {
     "data": {
      "text/plain": [
       "['Wakilu', 'Oloyade']"
      ]
     },
     "execution_count": 88,
     "metadata": {},
     "output_type": "execute_result"
    }
   ],
   "source": [
    "names[0::4]"
   ]
  },
  {
   "cell_type": "code",
   "execution_count": 89,
   "id": "5318e85b",
   "metadata": {},
   "outputs": [],
   "source": [
    "names.append(\"Rokeeb\")"
   ]
  },
  {
   "cell_type": "code",
   "execution_count": 90,
   "id": "342508c3",
   "metadata": {},
   "outputs": [
    {
     "data": {
      "text/plain": [
       "['Wakilu', 'Ademuyiwa', 'Ayoola', 'Sola', 'Oloyade', 'Saheed', 'Rokeeb']"
      ]
     },
     "execution_count": 90,
     "metadata": {},
     "output_type": "execute_result"
    }
   ],
   "source": [
    "names"
   ]
  },
  {
   "cell_type": "code",
   "execution_count": 91,
   "id": "5df698de",
   "metadata": {},
   "outputs": [
    {
     "data": {
      "text/plain": [
       "'Rokeeb'"
      ]
     },
     "execution_count": 91,
     "metadata": {},
     "output_type": "execute_result"
    }
   ],
   "source": [
    "names.pop()"
   ]
  },
  {
   "cell_type": "code",
   "execution_count": 92,
   "id": "800db66b",
   "metadata": {},
   "outputs": [
    {
     "data": {
      "text/plain": [
       "['Wakilu', 'Ademuyiwa', 'Ayoola', 'Sola', 'Oloyade', 'Saheed']"
      ]
     },
     "execution_count": 92,
     "metadata": {},
     "output_type": "execute_result"
    }
   ],
   "source": [
    "names"
   ]
  },
  {
   "cell_type": "code",
   "execution_count": 93,
   "id": "d813ec90",
   "metadata": {},
   "outputs": [
    {
     "data": {
      "text/plain": [
       "'Saheed'"
      ]
     },
     "execution_count": 93,
     "metadata": {},
     "output_type": "execute_result"
    }
   ],
   "source": [
    "names.pop()"
   ]
  },
  {
   "cell_type": "code",
   "execution_count": 94,
   "id": "0d01ec63",
   "metadata": {},
   "outputs": [
    {
     "data": {
      "text/plain": [
       "['Wakilu', 'Ademuyiwa', 'Ayoola', 'Sola', 'Oloyade']"
      ]
     },
     "execution_count": 94,
     "metadata": {},
     "output_type": "execute_result"
    }
   ],
   "source": [
    "names"
   ]
  },
  {
   "cell_type": "code",
   "execution_count": 95,
   "id": "4c922830",
   "metadata": {},
   "outputs": [],
   "source": [
    "names.reverse()"
   ]
  },
  {
   "cell_type": "code",
   "execution_count": 96,
   "id": "cec48d81",
   "metadata": {},
   "outputs": [
    {
     "data": {
      "text/plain": [
       "['Oloyade', 'Sola', 'Ayoola', 'Ademuyiwa', 'Wakilu']"
      ]
     },
     "execution_count": 96,
     "metadata": {},
     "output_type": "execute_result"
    }
   ],
   "source": [
    "names"
   ]
  },
  {
   "cell_type": "code",
   "execution_count": 97,
   "id": "00e066c1",
   "metadata": {},
   "outputs": [],
   "source": [
    "# Dictionaries\n",
    "# Dictionary is a type of python data type in which collections are unordered, and values are in pairs called key-value pairs."
   ]
  },
  {
   "cell_type": "code",
   "execution_count": 103,
   "id": "47d6702c",
   "metadata": {},
   "outputs": [
    {
     "data": {
      "text/plain": [
       "{'key1': 'value1', 'key2': 'value', 'key3': 'value3'}"
      ]
     },
     "execution_count": 103,
     "metadata": {},
     "output_type": "execute_result"
    }
   ],
   "source": [
    "my_dict = {\"key1\": \"value1\", \"key2\": \"value\", \"key3\": \"value3\"}\n",
    "my_dict"
   ]
  },
  {
   "cell_type": "code",
   "execution_count": 105,
   "id": "1e659066",
   "metadata": {},
   "outputs": [
    {
     "data": {
      "text/plain": [
       "dict_keys(['key1', 'key2', 'key3'])"
      ]
     },
     "execution_count": 105,
     "metadata": {},
     "output_type": "execute_result"
    }
   ],
   "source": [
    "my_dict.keys()"
   ]
  },
  {
   "cell_type": "code",
   "execution_count": 106,
   "id": "ef86a8df",
   "metadata": {},
   "outputs": [
    {
     "data": {
      "text/plain": [
       "dict_values(['value1', 'value', 'value3'])"
      ]
     },
     "execution_count": 106,
     "metadata": {},
     "output_type": "execute_result"
    }
   ],
   "source": [
    "my_dict.values()"
   ]
  },
  {
   "cell_type": "code",
   "execution_count": 107,
   "id": "35de49af",
   "metadata": {},
   "outputs": [
    {
     "data": {
      "text/plain": [
       "'value3'"
      ]
     },
     "execution_count": 107,
     "metadata": {},
     "output_type": "execute_result"
    }
   ],
   "source": [
    "my_dict[\"key3\"]"
   ]
  },
  {
   "cell_type": "code",
   "execution_count": 111,
   "id": "4c4444e0",
   "metadata": {},
   "outputs": [
    {
     "data": {
      "text/plain": [
       "{'name': 'Wakilu', 'Address': 'James Ajayi', 'phone-no': 818769063}"
      ]
     },
     "execution_count": 111,
     "metadata": {},
     "output_type": "execute_result"
    }
   ],
   "source": [
    "bio_data ={\"name\": \"Wakilu\", \"Address\": \"James Ajayi\", \"phone-no\": 818769063}\n",
    "bio_data"
   ]
  },
  {
   "cell_type": "code",
   "execution_count": 112,
   "id": "a48529df",
   "metadata": {},
   "outputs": [
    {
     "data": {
      "text/plain": [
       "'Wakilu'"
      ]
     },
     "execution_count": 112,
     "metadata": {},
     "output_type": "execute_result"
    }
   ],
   "source": [
    "bio_data[\"name\"]"
   ]
  },
  {
   "cell_type": "code",
   "execution_count": 113,
   "id": "3fac3c2d",
   "metadata": {},
   "outputs": [
    {
     "data": {
      "text/plain": [
       "'James Ajayi'"
      ]
     },
     "execution_count": 113,
     "metadata": {},
     "output_type": "execute_result"
    }
   ],
   "source": [
    "bio_data[\"Address\"]"
   ]
  },
  {
   "cell_type": "code",
   "execution_count": 114,
   "id": "cfadb310",
   "metadata": {},
   "outputs": [],
   "source": [
    "bio_data[\"age\"] = 32"
   ]
  },
  {
   "cell_type": "code",
   "execution_count": 116,
   "id": "0ee1c8d7",
   "metadata": {},
   "outputs": [
    {
     "data": {
      "text/plain": [
       "{'name': 'Wakilu', 'Address': 'James Ajayi', 'phone-no': 818769063, 'age': 32}"
      ]
     },
     "execution_count": 116,
     "metadata": {},
     "output_type": "execute_result"
    }
   ],
   "source": [
    "bio_data"
   ]
  },
  {
   "cell_type": "code",
   "execution_count": 117,
   "id": "edf1bf07",
   "metadata": {},
   "outputs": [],
   "source": [
    "bio_data[\"next of kin\"] = \"Saheed\""
   ]
  },
  {
   "cell_type": "code",
   "execution_count": 118,
   "id": "cdedd608",
   "metadata": {},
   "outputs": [
    {
     "data": {
      "text/plain": [
       "{'name': 'Wakilu',\n",
       " 'Address': 'James Ajayi',\n",
       " 'phone-no': 818769063,\n",
       " 'age': 32,\n",
       " 'next of kin': 'Saheed'}"
      ]
     },
     "execution_count": 118,
     "metadata": {},
     "output_type": "execute_result"
    }
   ],
   "source": [
    "bio_data"
   ]
  },
  {
   "cell_type": "code",
   "execution_count": 120,
   "id": "8ecdf6ef",
   "metadata": {},
   "outputs": [
    {
     "data": {
      "text/plain": [
       "32"
      ]
     },
     "execution_count": 120,
     "metadata": {},
     "output_type": "execute_result"
    }
   ],
   "source": [
    "bio_data[\"age\"]"
   ]
  },
  {
   "cell_type": "code",
   "execution_count": 121,
   "id": "b3037ef0",
   "metadata": {},
   "outputs": [
    {
     "data": {
      "text/plain": [
       "818769063"
      ]
     },
     "execution_count": 121,
     "metadata": {},
     "output_type": "execute_result"
    }
   ],
   "source": [
    "bio_data[\"phone-no\"]"
   ]
  },
  {
   "cell_type": "code",
   "execution_count": 122,
   "id": "eb997b00",
   "metadata": {},
   "outputs": [],
   "source": [
    "# Tuples\n",
    "# A Tuple is a sequence of items that are in order, and it is not possible to modify the tuple"
   ]
  },
  {
   "cell_type": "code",
   "execution_count": 124,
   "id": "0442f6fb",
   "metadata": {},
   "outputs": [
    {
     "data": {
      "text/plain": [
       "(1, 2, 3, 4, 5, 'Wakilu', 'program')"
      ]
     },
     "execution_count": 124,
     "metadata": {},
     "output_type": "execute_result"
    }
   ],
   "source": [
    "tup = (1,2,3,4,5, \"Wakilu\", \"program\")\n",
    "tup"
   ]
  },
  {
   "cell_type": "code",
   "execution_count": 125,
   "id": "156923ca",
   "metadata": {},
   "outputs": [
    {
     "data": {
      "text/plain": [
       "2"
      ]
     },
     "execution_count": 125,
     "metadata": {},
     "output_type": "execute_result"
    }
   ],
   "source": [
    "tup[1]"
   ]
  },
  {
   "cell_type": "code",
   "execution_count": 126,
   "id": "48412451",
   "metadata": {},
   "outputs": [
    {
     "data": {
      "text/plain": [
       "5"
      ]
     },
     "execution_count": 126,
     "metadata": {},
     "output_type": "execute_result"
    }
   ],
   "source": [
    "tup[-3]"
   ]
  },
  {
   "cell_type": "code",
   "execution_count": 129,
   "id": "f90cf16b",
   "metadata": {},
   "outputs": [
    {
     "data": {
      "text/plain": [
       "7"
      ]
     },
     "execution_count": 129,
     "metadata": {},
     "output_type": "execute_result"
    }
   ],
   "source": [
    "len(tup)"
   ]
  },
  {
   "cell_type": "code",
   "execution_count": 130,
   "id": "c2aefe24",
   "metadata": {},
   "outputs": [],
   "source": [
    "# Set\n",
    "# The collection of unique items that are not in order is called set."
   ]
  },
  {
   "cell_type": "code",
   "execution_count": 133,
   "id": "a2c60d2e",
   "metadata": {},
   "outputs": [],
   "source": [
    "num = {1,2,3,4,2,1,3,2,5,6,5,4,3,6,7,7,6,5,4,3,2}"
   ]
  },
  {
   "cell_type": "code",
   "execution_count": 134,
   "id": "9909a8f5",
   "metadata": {},
   "outputs": [
    {
     "data": {
      "text/plain": [
       "{1, 2, 3, 4, 5, 6, 7}"
      ]
     },
     "execution_count": 134,
     "metadata": {},
     "output_type": "execute_result"
    }
   ],
   "source": [
    "num"
   ]
  },
  {
   "cell_type": "code",
   "execution_count": 136,
   "id": "af69b1ce",
   "metadata": {},
   "outputs": [],
   "source": [
    "names = {\"Wakilu\", \"Ademuyiwa\", \"Ayoola\", \"Sola\", \"Oloyade\", \"Saheed\", \"Wakilu\", \"Ayoola\"}"
   ]
  },
  {
   "cell_type": "code",
   "execution_count": 137,
   "id": "b27425a4",
   "metadata": {},
   "outputs": [
    {
     "data": {
      "text/plain": [
       "{'Ademuyiwa', 'Ayoola', 'Oloyade', 'Saheed', 'Sola', 'Wakilu'}"
      ]
     },
     "execution_count": 137,
     "metadata": {},
     "output_type": "execute_result"
    }
   ],
   "source": [
    "a_names = set(names)\n",
    "a_names"
   ]
  },
  {
   "cell_type": "code",
   "execution_count": 138,
   "id": "c7afd069",
   "metadata": {},
   "outputs": [
    {
     "data": {
      "text/plain": [
       "{'Ademuyiwa', 'Ayoola', 'Olamide', 'Oloyade', 'Saheed', 'Sola', 'Wakilu'}"
      ]
     },
     "execution_count": 138,
     "metadata": {},
     "output_type": "execute_result"
    }
   ],
   "source": [
    "a_names.add(\"Olamide\")\n",
    "a_names"
   ]
  },
  {
   "cell_type": "code",
   "execution_count": 139,
   "id": "7339bbb6",
   "metadata": {},
   "outputs": [
    {
     "data": {
      "text/plain": [
       "7"
      ]
     },
     "execution_count": 139,
     "metadata": {},
     "output_type": "execute_result"
    }
   ],
   "source": [
    "len(a_names)"
   ]
  },
  {
   "cell_type": "code",
   "execution_count": 140,
   "id": "82291bcd",
   "metadata": {},
   "outputs": [],
   "source": [
    "# Boolean\n",
    "# True or False"
   ]
  },
  {
   "cell_type": "code",
   "execution_count": 142,
   "id": "d8c836a7",
   "metadata": {},
   "outputs": [
    {
     "data": {
      "text/plain": [
       "True"
      ]
     },
     "execution_count": 142,
     "metadata": {},
     "output_type": "execute_result"
    }
   ],
   "source": [
    "\"a\" == \"a\""
   ]
  },
  {
   "cell_type": "code",
   "execution_count": 144,
   "id": "f2dc9e64",
   "metadata": {},
   "outputs": [
    {
     "data": {
      "text/plain": [
       "True"
      ]
     },
     "execution_count": 144,
     "metadata": {},
     "output_type": "execute_result"
    }
   ],
   "source": [
    "2 == 2"
   ]
  },
  {
   "cell_type": "code",
   "execution_count": 145,
   "id": "28e08399",
   "metadata": {},
   "outputs": [
    {
     "data": {
      "text/plain": [
       "bool"
      ]
     },
     "execution_count": 145,
     "metadata": {},
     "output_type": "execute_result"
    }
   ],
   "source": [
    "type(2==2)"
   ]
  },
  {
   "cell_type": "code",
   "execution_count": 146,
   "id": "200b6bda",
   "metadata": {},
   "outputs": [
    {
     "data": {
      "text/plain": [
       "True"
      ]
     },
     "execution_count": 146,
     "metadata": {},
     "output_type": "execute_result"
    }
   ],
   "source": [
    "m = 200 > 100\n",
    "m"
   ]
  },
  {
   "cell_type": "code",
   "execution_count": 149,
   "id": "2c953cd2",
   "metadata": {},
   "outputs": [
    {
     "data": {
      "text/plain": [
       "False"
      ]
     },
     "execution_count": 149,
     "metadata": {},
     "output_type": "execute_result"
    }
   ],
   "source": [
    "w = 500 <= 300\n",
    "w"
   ]
  },
  {
   "cell_type": "code",
   "execution_count": 150,
   "id": "190afc7e",
   "metadata": {},
   "outputs": [
    {
     "data": {
      "text/plain": [
       "True"
      ]
     },
     "execution_count": 150,
     "metadata": {},
     "output_type": "execute_result"
    }
   ],
   "source": [
    "\"oloyade\" == \"oloyade\""
   ]
  },
  {
   "cell_type": "code",
   "execution_count": 151,
   "id": "0ce6749a",
   "metadata": {},
   "outputs": [
    {
     "data": {
      "text/plain": [
       "bool"
      ]
     },
     "execution_count": 151,
     "metadata": {},
     "output_type": "execute_result"
    }
   ],
   "source": [
    "type(\"oloyade\" == \"oloyade\")"
   ]
  },
  {
   "cell_type": "code",
   "execution_count": null,
   "id": "d2e2ddbc",
   "metadata": {},
   "outputs": [],
   "source": []
  }
 ],
 "metadata": {
  "kernelspec": {
   "display_name": "Python 3 (ipykernel)",
   "language": "python",
   "name": "python3"
  },
  "language_info": {
   "codemirror_mode": {
    "name": "ipython",
    "version": 3
   },
   "file_extension": ".py",
   "mimetype": "text/x-python",
   "name": "python",
   "nbconvert_exporter": "python",
   "pygments_lexer": "ipython3",
   "version": "3.9.12"
  }
 },
 "nbformat": 4,
 "nbformat_minor": 5
}
